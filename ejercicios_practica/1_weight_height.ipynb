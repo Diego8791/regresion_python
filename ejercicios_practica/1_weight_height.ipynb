{
 "cells": [
  {
   "cell_type": "markdown",
   "metadata": {
    "id": "Ea9CPlvttQda"
   },
   "source": [
    "<a href=\"https://www.inove.com.ar\"><img src=\"https://raw.githubusercontent.com/InoveAlumnos/dataset_analytics_python/master/images/PA%20Banner.png\" width=\"1000\" align=\"center\"></a>\n",
    "\n",
    "\n",
    "# Ejercicios de Regresión\n",
    "\n",
    "Ejemplo de regresión utilizando el dataset recolecado de pesos y estaturas de personas<br>\n",
    "\n",
    "[Dataset source](http://wiki.stat.ucla.edu/socr/index.php/SOCR_Data_Dinov_020108_HeightsWeights)\n",
    "\n",
    "v1.1"
   ]
  },
  {
   "cell_type": "code",
   "execution_count": 2,
   "metadata": {
    "executionInfo": {
     "elapsed": 2333,
     "status": "ok",
     "timestamp": 1603765603067,
     "user": {
      "displayName": "Hernán Contigiani",
      "photoUrl": "https://lh3.googleusercontent.com/a-/AOh14Ggvg04lTitIUU72BS6D299tXlZG8qalV594KkKRfg=s64",
      "userId": "01142101934719343059"
     },
     "user_tz": 180
    },
    "id": "xJN8ND5ctQdc"
   },
   "outputs": [],
   "source": [
    "import os\n",
    "import platform\n",
    "\n",
    "import numpy as np\n",
    "import matplotlib.pyplot as plt\n",
    "import seaborn as sns\n",
    "import pandas as pd"
   ]
  },
  {
   "cell_type": "markdown",
   "metadata": {
    "id": "v-jK-TsQCwW9"
   },
   "source": [
    "# Recolectar datos\n",
    "<img src=\"https://raw.githubusercontent.com/InoveAlumnos/dataset_analytics_python/master/images/Pipeline1.png\" width=\"1000\" align=\"middle\">"
   ]
  },
  {
   "cell_type": "code",
   "execution_count": 9,
   "metadata": {
    "executionInfo": {
     "elapsed": 2323,
     "status": "ok",
     "timestamp": 1603765603071,
     "user": {
      "displayName": "Hernán Contigiani",
      "photoUrl": "https://lh3.googleusercontent.com/a-/AOh14Ggvg04lTitIUU72BS6D299tXlZG8qalV594KkKRfg=s64",
      "userId": "01142101934719343059"
     },
     "user_tz": 180
    },
    "id": "j9x_YEdTtQeC",
    "tags": []
   },
   "outputs": [],
   "source": [
    "if os.access('weight_height.csv', os.F_OK) is False:\n",
    "    if platform.system() == 'Windows':\n",
    "        !curl https://raw.githubusercontent.com/InoveAlumnos/dataset_analytics_python/master/weight_height.csv > weight_height.csv\n",
    "    else:\n",
    "        !wget weight_height.csv https://raw.githubusercontent.com/InoveAlumnos/dataset_analytics_python/master/weight_height.csv"
   ]
  },
  {
   "cell_type": "markdown",
   "metadata": {
    "id": "Q5I6l8ZCFaZ8"
   },
   "source": [
    "# Procesar datos\n",
    "<img src=\"https://raw.githubusercontent.com/InoveAlumnos/dataset_analytics_python/master/images/Pipeline2.png\" width=\"1000\" align=\"middle\">"
   ]
  },
  {
   "cell_type": "code",
   "execution_count": 34,
   "metadata": {},
   "outputs": [
    {
     "data": {
      "text/html": [
       "<div>\n",
       "<style scoped>\n",
       "    .dataframe tbody tr th:only-of-type {\n",
       "        vertical-align: middle;\n",
       "    }\n",
       "\n",
       "    .dataframe tbody tr th {\n",
       "        vertical-align: top;\n",
       "    }\n",
       "\n",
       "    .dataframe thead th {\n",
       "        text-align: right;\n",
       "    }\n",
       "</style>\n",
       "<table border=\"1\" class=\"dataframe\">\n",
       "  <thead>\n",
       "    <tr style=\"text-align: right;\">\n",
       "      <th></th>\n",
       "      <th>Gender</th>\n",
       "      <th>Height</th>\n",
       "      <th>Weight</th>\n",
       "    </tr>\n",
       "  </thead>\n",
       "  <tbody>\n",
       "    <tr>\n",
       "      <th>0</th>\n",
       "      <td>Male</td>\n",
       "      <td>73.847017</td>\n",
       "      <td>241.893563</td>\n",
       "    </tr>\n",
       "    <tr>\n",
       "      <th>1</th>\n",
       "      <td>Male</td>\n",
       "      <td>68.781904</td>\n",
       "      <td>162.310473</td>\n",
       "    </tr>\n",
       "    <tr>\n",
       "      <th>2</th>\n",
       "      <td>Male</td>\n",
       "      <td>74.110105</td>\n",
       "      <td>212.740856</td>\n",
       "    </tr>\n",
       "    <tr>\n",
       "      <th>3</th>\n",
       "      <td>Male</td>\n",
       "      <td>71.730978</td>\n",
       "      <td>220.042470</td>\n",
       "    </tr>\n",
       "    <tr>\n",
       "      <th>4</th>\n",
       "      <td>Male</td>\n",
       "      <td>69.881796</td>\n",
       "      <td>206.349801</td>\n",
       "    </tr>\n",
       "  </tbody>\n",
       "</table>\n",
       "</div>"
      ],
      "text/plain": [
       "  Gender     Height      Weight\n",
       "0   Male  73.847017  241.893563\n",
       "1   Male  68.781904  162.310473\n",
       "2   Male  74.110105  212.740856\n",
       "3   Male  71.730978  220.042470\n",
       "4   Male  69.881796  206.349801"
      ]
     },
     "execution_count": 34,
     "metadata": {},
     "output_type": "execute_result"
    }
   ],
   "source": [
    "## importar el dataset \n",
    "df = pd.read_csv(\"weight_height.csv\")\n",
    "df.head()"
   ]
  },
  {
   "cell_type": "code",
   "execution_count": 35,
   "metadata": {},
   "outputs": [
    {
     "data": {
      "text/html": [
       "<div>\n",
       "<style scoped>\n",
       "    .dataframe tbody tr th:only-of-type {\n",
       "        vertical-align: middle;\n",
       "    }\n",
       "\n",
       "    .dataframe tbody tr th {\n",
       "        vertical-align: top;\n",
       "    }\n",
       "\n",
       "    .dataframe thead th {\n",
       "        text-align: right;\n",
       "    }\n",
       "</style>\n",
       "<table border=\"1\" class=\"dataframe\">\n",
       "  <thead>\n",
       "    <tr style=\"text-align: right;\">\n",
       "      <th></th>\n",
       "      <th>Gender</th>\n",
       "      <th>Height</th>\n",
       "      <th>Weight</th>\n",
       "      <th>Genero</th>\n",
       "      <th>Altura (cm)</th>\n",
       "      <th>Peso (kg)</th>\n",
       "    </tr>\n",
       "  </thead>\n",
       "  <tbody>\n",
       "    <tr>\n",
       "      <th>0</th>\n",
       "      <td>Male</td>\n",
       "      <td>73.847017</td>\n",
       "      <td>241.893563</td>\n",
       "      <td>Masculino</td>\n",
       "      <td>187.571798</td>\n",
       "      <td>109.577784</td>\n",
       "    </tr>\n",
       "    <tr>\n",
       "      <th>1</th>\n",
       "      <td>Male</td>\n",
       "      <td>68.781904</td>\n",
       "      <td>162.310473</td>\n",
       "      <td>Masculino</td>\n",
       "      <td>174.706386</td>\n",
       "      <td>73.526644</td>\n",
       "    </tr>\n",
       "    <tr>\n",
       "      <th>2</th>\n",
       "      <td>Male</td>\n",
       "      <td>74.110105</td>\n",
       "      <td>212.740856</td>\n",
       "      <td>Masculino</td>\n",
       "      <td>188.240044</td>\n",
       "      <td>96.371608</td>\n",
       "    </tr>\n",
       "    <tr>\n",
       "      <th>3</th>\n",
       "      <td>Male</td>\n",
       "      <td>71.730978</td>\n",
       "      <td>220.042470</td>\n",
       "      <td>Masculino</td>\n",
       "      <td>182.197050</td>\n",
       "      <td>99.679239</td>\n",
       "    </tr>\n",
       "    <tr>\n",
       "      <th>4</th>\n",
       "      <td>Male</td>\n",
       "      <td>69.881796</td>\n",
       "      <td>206.349801</td>\n",
       "      <td>Masculino</td>\n",
       "      <td>177.500116</td>\n",
       "      <td>93.476460</td>\n",
       "    </tr>\n",
       "    <tr>\n",
       "      <th>...</th>\n",
       "      <td>...</td>\n",
       "      <td>...</td>\n",
       "      <td>...</td>\n",
       "      <td>...</td>\n",
       "      <td>...</td>\n",
       "      <td>...</td>\n",
       "    </tr>\n",
       "    <tr>\n",
       "      <th>9995</th>\n",
       "      <td>Female</td>\n",
       "      <td>66.172652</td>\n",
       "      <td>136.777454</td>\n",
       "      <td>Femenino</td>\n",
       "      <td>168.078873</td>\n",
       "      <td>61.960187</td>\n",
       "    </tr>\n",
       "    <tr>\n",
       "      <th>9996</th>\n",
       "      <td>Female</td>\n",
       "      <td>67.067155</td>\n",
       "      <td>170.867906</td>\n",
       "      <td>Femenino</td>\n",
       "      <td>170.350914</td>\n",
       "      <td>77.403161</td>\n",
       "    </tr>\n",
       "    <tr>\n",
       "      <th>9997</th>\n",
       "      <td>Female</td>\n",
       "      <td>63.867992</td>\n",
       "      <td>128.475319</td>\n",
       "      <td>Femenino</td>\n",
       "      <td>162.225025</td>\n",
       "      <td>58.199319</td>\n",
       "    </tr>\n",
       "    <tr>\n",
       "      <th>9998</th>\n",
       "      <td>Female</td>\n",
       "      <td>69.034243</td>\n",
       "      <td>163.852461</td>\n",
       "      <td>Femenino</td>\n",
       "      <td>175.347328</td>\n",
       "      <td>74.225165</td>\n",
       "    </tr>\n",
       "    <tr>\n",
       "      <th>9999</th>\n",
       "      <td>Female</td>\n",
       "      <td>61.944246</td>\n",
       "      <td>113.649103</td>\n",
       "      <td>Femenino</td>\n",
       "      <td>157.338699</td>\n",
       "      <td>51.483044</td>\n",
       "    </tr>\n",
       "  </tbody>\n",
       "</table>\n",
       "<p>10000 rows × 6 columns</p>\n",
       "</div>"
      ],
      "text/plain": [
       "      Gender     Height      Weight     Genero  Altura (cm)   Peso (kg)\n",
       "0       Male  73.847017  241.893563  Masculino   187.571798  109.577784\n",
       "1       Male  68.781904  162.310473  Masculino   174.706386   73.526644\n",
       "2       Male  74.110105  212.740856  Masculino   188.240044   96.371608\n",
       "3       Male  71.730978  220.042470  Masculino   182.197050   99.679239\n",
       "4       Male  69.881796  206.349801  Masculino   177.500116   93.476460\n",
       "...      ...        ...         ...        ...          ...         ...\n",
       "9995  Female  66.172652  136.777454   Femenino   168.078873   61.960187\n",
       "9996  Female  67.067155  170.867906   Femenino   170.350914   77.403161\n",
       "9997  Female  63.867992  128.475319   Femenino   162.225025   58.199319\n",
       "9998  Female  69.034243  163.852461   Femenino   175.347328   74.225165\n",
       "9999  Female  61.944246  113.649103   Femenino   157.338699   51.483044\n",
       "\n",
       "[10000 rows x 6 columns]"
      ]
     },
     "execution_count": 35,
     "metadata": {},
     "output_type": "execute_result"
    }
   ],
   "source": [
    "## incluir columnas: Genero, Altura (cm) y Peso (kg)\n",
    "df['Genero'] = df['Gender'].apply(lambda x: 'Masculino' if x == 'Male' else 'Femenino')\n",
    "df['Altura (cm)'] = df['Height']/0.3937\n",
    "df['Peso (kg)'] = df['Weight']*0.453\n",
    "df"
   ]
  },
  {
   "cell_type": "code",
   "execution_count": 36,
   "metadata": {},
   "outputs": [
    {
     "name": "stdout",
     "output_type": "stream",
     "text": [
      "<class 'pandas.core.frame.DataFrame'>\n",
      "RangeIndex: 10000 entries, 0 to 9999\n",
      "Data columns (total 6 columns):\n",
      " #   Column       Non-Null Count  Dtype  \n",
      "---  ------       --------------  -----  \n",
      " 0   Gender       10000 non-null  object \n",
      " 1   Height       10000 non-null  float64\n",
      " 2   Weight       10000 non-null  float64\n",
      " 3   Genero       10000 non-null  object \n",
      " 4   Altura (cm)  10000 non-null  float64\n",
      " 5   Peso (kg)    10000 non-null  float64\n",
      "dtypes: float64(4), object(2)\n",
      "memory usage: 468.9+ KB\n"
     ]
    }
   ],
   "source": [
    "df.info()"
   ]
  },
  {
   "cell_type": "code",
   "execution_count": null,
   "metadata": {},
   "outputs": [],
   "source": [
    "#  Conclusión de info():\n",
    "# El datataframe no posee elementos nulos"
   ]
  },
  {
   "cell_type": "code",
   "execution_count": 32,
   "metadata": {
    "colab": {
     "base_uri": "https://localhost:8080/",
     "height": 359
    },
    "executionInfo": {
     "elapsed": 2314,
     "status": "ok",
     "timestamp": 1603765603072,
     "user": {
      "displayName": "Hernán Contigiani",
      "photoUrl": "https://lh3.googleusercontent.com/a-/AOh14Ggvg04lTitIUU72BS6D299tXlZG8qalV594KkKRfg=s64",
      "userId": "01142101934719343059"
     },
     "user_tz": 180
    },
    "id": "RQgSiWHXFWQD",
    "outputId": "1e10935e-2055-4d4a-d081-41b6965d7bfb"
   },
   "outputs": [
    {
     "data": {
      "text/html": [
       "<div>\n",
       "<style scoped>\n",
       "    .dataframe tbody tr th:only-of-type {\n",
       "        vertical-align: middle;\n",
       "    }\n",
       "\n",
       "    .dataframe tbody tr th {\n",
       "        vertical-align: top;\n",
       "    }\n",
       "\n",
       "    .dataframe thead th {\n",
       "        text-align: right;\n",
       "    }\n",
       "</style>\n",
       "<table border=\"1\" class=\"dataframe\">\n",
       "  <thead>\n",
       "    <tr style=\"text-align: right;\">\n",
       "      <th></th>\n",
       "      <th>Height</th>\n",
       "      <th>Weight</th>\n",
       "      <th>Altura (cm)</th>\n",
       "      <th>Peso (kg)</th>\n",
       "    </tr>\n",
       "  </thead>\n",
       "  <tbody>\n",
       "    <tr>\n",
       "      <th>count</th>\n",
       "      <td>8.000000</td>\n",
       "      <td>8.000000</td>\n",
       "      <td>8.000000</td>\n",
       "      <td>8.000000</td>\n",
       "    </tr>\n",
       "    <tr>\n",
       "      <th>mean</th>\n",
       "      <td>2170.359137</td>\n",
       "      <td>2199.919598</td>\n",
       "      <td>2201.627355</td>\n",
       "      <td>2172.988009</td>\n",
       "    </tr>\n",
       "    <tr>\n",
       "      <th>std</th>\n",
       "      <td>3413.239676</td>\n",
       "      <td>3395.910943</td>\n",
       "      <td>3394.738603</td>\n",
       "      <td>3411.680514</td>\n",
       "    </tr>\n",
       "    <tr>\n",
       "      <th>min</th>\n",
       "      <td>3.847528</td>\n",
       "      <td>8.000000</td>\n",
       "      <td>8.000000</td>\n",
       "      <td>8.000000</td>\n",
       "    </tr>\n",
       "    <tr>\n",
       "      <th>25%</th>\n",
       "      <td>37.922187</td>\n",
       "      <td>74.417028</td>\n",
       "      <td>91.264918</td>\n",
       "      <td>34.804914</td>\n",
       "    </tr>\n",
       "    <tr>\n",
       "      <th>50%</th>\n",
       "      <td>961.519390</td>\n",
       "      <td>1044.153475</td>\n",
       "      <td>1039.831331</td>\n",
       "      <td>971.126127</td>\n",
       "    </tr>\n",
       "    <tr>\n",
       "      <th>75%</th>\n",
       "      <td>2284.185493</td>\n",
       "      <td>2311.439938</td>\n",
       "      <td>2311.198714</td>\n",
       "      <td>2286.922904</td>\n",
       "    </tr>\n",
       "    <tr>\n",
       "      <th>max</th>\n",
       "      <td>10000.000000</td>\n",
       "      <td>10000.000000</td>\n",
       "      <td>10000.000000</td>\n",
       "      <td>10000.000000</td>\n",
       "    </tr>\n",
       "    <tr>\n",
       "      <th>Nan</th>\n",
       "      <td>0.000000</td>\n",
       "      <td>0.000000</td>\n",
       "      <td>0.000000</td>\n",
       "      <td>0.000000</td>\n",
       "    </tr>\n",
       "    <tr>\n",
       "      <th>%Nan</th>\n",
       "      <td>0.000000</td>\n",
       "      <td>0.000000</td>\n",
       "      <td>0.000000</td>\n",
       "      <td>0.000000</td>\n",
       "    </tr>\n",
       "  </tbody>\n",
       "</table>\n",
       "</div>"
      ],
      "text/plain": [
       "             Height        Weight   Altura (cm)     Peso (kg)\n",
       "count      8.000000      8.000000      8.000000      8.000000\n",
       "mean    2170.359137   2199.919598   2201.627355   2172.988009\n",
       "std     3413.239676   3395.910943   3394.738603   3411.680514\n",
       "min        3.847528      8.000000      8.000000      8.000000\n",
       "25%       37.922187     74.417028     91.264918     34.804914\n",
       "50%      961.519390   1044.153475   1039.831331    971.126127\n",
       "75%     2284.185493   2311.439938   2311.198714   2286.922904\n",
       "max    10000.000000  10000.000000  10000.000000  10000.000000\n",
       "Nan        0.000000      0.000000      0.000000      0.000000\n",
       "%Nan       0.000000      0.000000      0.000000      0.000000"
      ]
     },
     "execution_count": 32,
     "metadata": {},
     "output_type": "execute_result"
    }
   ],
   "source": [
    "# Alumno, realice una inspeccion del dataset en búsqueda de elementos faltantes\n",
    "des = df.describe()  # datos estadisticos\n",
    "des.loc['Nan'] = df.isna().sum() # totalizar la cantidad de valores faltantes en el dataset\n",
    "des.loc['%Nan'] = (df.isna().sum())*100 # % de valores faltantes en el dataset\n",
    "des"
   ]
  },
  {
   "cell_type": "code",
   "execution_count": null,
   "metadata": {
    "colab": {
     "base_uri": "https://localhost:8080/",
     "height": 419
    },
    "executionInfo": {
     "elapsed": 2306,
     "status": "ok",
     "timestamp": 1603765603073,
     "user": {
      "displayName": "Hernán Contigiani",
      "photoUrl": "https://lh3.googleusercontent.com/a-/AOh14Ggvg04lTitIUU72BS6D299tXlZG8qalV594KkKRfg=s64",
      "userId": "01142101934719343059"
     },
     "user_tz": 180
    },
    "id": "5AAORpEFw6iI",
    "outputId": "e9a1b408-eca2-45bc-d4bb-fd57410810e3"
   },
   "outputs": [],
   "source": [
    "# Alumno, en caso de encontrarse elementos faltantes,\n",
    "# elimine aquellas filas que tengan columnas vacias\n",
    "# Escriba el procedimiento tenga o no elementos faltantes\n",
    "\n",
    "# El dataset no posee elementos ni columnas faltantes"
   ]
  },
  {
   "cell_type": "code",
   "execution_count": 37,
   "metadata": {
    "colab": {
     "base_uri": "https://localhost:8080/",
     "height": 204
    },
    "executionInfo": {
     "elapsed": 2299,
     "status": "ok",
     "timestamp": 1603765603074,
     "user": {
      "displayName": "Hernán Contigiani",
      "photoUrl": "https://lh3.googleusercontent.com/a-/AOh14Ggvg04lTitIUU72BS6D299tXlZG8qalV594KkKRfg=s64",
      "userId": "01142101934719343059"
     },
     "user_tz": 180
    },
    "id": "yVdxZvGKFvM9",
    "outputId": "ad8ee7a4-c748-4ac2-be6f-93a3e922471c"
   },
   "outputs": [
    {
     "data": {
      "text/html": [
       "<div>\n",
       "<style scoped>\n",
       "    .dataframe tbody tr th:only-of-type {\n",
       "        vertical-align: middle;\n",
       "    }\n",
       "\n",
       "    .dataframe tbody tr th {\n",
       "        vertical-align: top;\n",
       "    }\n",
       "\n",
       "    .dataframe thead th {\n",
       "        text-align: right;\n",
       "    }\n",
       "</style>\n",
       "<table border=\"1\" class=\"dataframe\">\n",
       "  <thead>\n",
       "    <tr style=\"text-align: right;\">\n",
       "      <th></th>\n",
       "      <th>Gender</th>\n",
       "      <th>Height</th>\n",
       "      <th>Weight</th>\n",
       "      <th>Genero</th>\n",
       "      <th>Altura (cm)</th>\n",
       "      <th>Peso (kg)</th>\n",
       "    </tr>\n",
       "  </thead>\n",
       "  <tbody>\n",
       "    <tr>\n",
       "      <th>0</th>\n",
       "      <td>Male</td>\n",
       "      <td>73.847017</td>\n",
       "      <td>241.893563</td>\n",
       "      <td>Masculino</td>\n",
       "      <td>187.571798</td>\n",
       "      <td>109.577784</td>\n",
       "    </tr>\n",
       "    <tr>\n",
       "      <th>1</th>\n",
       "      <td>Male</td>\n",
       "      <td>68.781904</td>\n",
       "      <td>162.310473</td>\n",
       "      <td>Masculino</td>\n",
       "      <td>174.706386</td>\n",
       "      <td>73.526644</td>\n",
       "    </tr>\n",
       "    <tr>\n",
       "      <th>2</th>\n",
       "      <td>Male</td>\n",
       "      <td>74.110105</td>\n",
       "      <td>212.740856</td>\n",
       "      <td>Masculino</td>\n",
       "      <td>188.240044</td>\n",
       "      <td>96.371608</td>\n",
       "    </tr>\n",
       "    <tr>\n",
       "      <th>3</th>\n",
       "      <td>Male</td>\n",
       "      <td>71.730978</td>\n",
       "      <td>220.042470</td>\n",
       "      <td>Masculino</td>\n",
       "      <td>182.197050</td>\n",
       "      <td>99.679239</td>\n",
       "    </tr>\n",
       "    <tr>\n",
       "      <th>4</th>\n",
       "      <td>Male</td>\n",
       "      <td>69.881796</td>\n",
       "      <td>206.349801</td>\n",
       "      <td>Masculino</td>\n",
       "      <td>177.500116</td>\n",
       "      <td>93.476460</td>\n",
       "    </tr>\n",
       "  </tbody>\n",
       "</table>\n",
       "</div>"
      ],
      "text/plain": [
       "  Gender     Height      Weight     Genero  Altura (cm)   Peso (kg)\n",
       "0   Male  73.847017  241.893563  Masculino   187.571798  109.577784\n",
       "1   Male  68.781904  162.310473  Masculino   174.706386   73.526644\n",
       "2   Male  74.110105  212.740856  Masculino   188.240044   96.371608\n",
       "3   Male  71.730978  220.042470  Masculino   182.197050   99.679239\n",
       "4   Male  69.881796  206.349801  Masculino   177.500116   93.476460"
      ]
     },
     "execution_count": 37,
     "metadata": {},
     "output_type": "execute_result"
    }
   ],
   "source": [
    "# Alumno, inspeccione el dataset, visualice las columnas que posee y sus primeras filas\n",
    "df.head()"
   ]
  },
  {
   "cell_type": "code",
   "execution_count": 84,
   "metadata": {
    "colab": {
     "base_uri": "https://localhost:8080/",
     "height": 204
    },
    "executionInfo": {
     "elapsed": 2293,
     "status": "ok",
     "timestamp": 1603765603076,
     "user": {
      "displayName": "Hernán Contigiani",
      "photoUrl": "https://lh3.googleusercontent.com/a-/AOh14Ggvg04lTitIUU72BS6D299tXlZG8qalV594KkKRfg=s64",
      "userId": "01142101934719343059"
     },
     "user_tz": 180
    },
    "id": "NXJ9syd0xfRJ",
    "outputId": "ab45834a-a63f-4733-e059-60ba2d68abdd"
   },
   "outputs": [
    {
     "data": {
      "text/html": [
       "<div>\n",
       "<style scoped>\n",
       "    .dataframe tbody tr th:only-of-type {\n",
       "        vertical-align: middle;\n",
       "    }\n",
       "\n",
       "    .dataframe tbody tr th {\n",
       "        vertical-align: top;\n",
       "    }\n",
       "\n",
       "    .dataframe thead th {\n",
       "        text-align: right;\n",
       "    }\n",
       "</style>\n",
       "<table border=\"1\" class=\"dataframe\">\n",
       "  <thead>\n",
       "    <tr style=\"text-align: right;\">\n",
       "      <th></th>\n",
       "      <th>Genero</th>\n",
       "      <th>Altura (cm)</th>\n",
       "      <th>Peso (kg)</th>\n",
       "    </tr>\n",
       "  </thead>\n",
       "  <tbody>\n",
       "    <tr>\n",
       "      <th>0</th>\n",
       "      <td>Masculino</td>\n",
       "      <td>187.571798</td>\n",
       "      <td>109.577784</td>\n",
       "    </tr>\n",
       "    <tr>\n",
       "      <th>1</th>\n",
       "      <td>Masculino</td>\n",
       "      <td>174.706386</td>\n",
       "      <td>73.526644</td>\n",
       "    </tr>\n",
       "    <tr>\n",
       "      <th>2</th>\n",
       "      <td>Masculino</td>\n",
       "      <td>188.240044</td>\n",
       "      <td>96.371608</td>\n",
       "    </tr>\n",
       "    <tr>\n",
       "      <th>3</th>\n",
       "      <td>Masculino</td>\n",
       "      <td>182.197050</td>\n",
       "      <td>99.679239</td>\n",
       "    </tr>\n",
       "    <tr>\n",
       "      <th>4</th>\n",
       "      <td>Masculino</td>\n",
       "      <td>177.500116</td>\n",
       "      <td>93.476460</td>\n",
       "    </tr>\n",
       "    <tr>\n",
       "      <th>...</th>\n",
       "      <td>...</td>\n",
       "      <td>...</td>\n",
       "      <td>...</td>\n",
       "    </tr>\n",
       "    <tr>\n",
       "      <th>9995</th>\n",
       "      <td>Femenino</td>\n",
       "      <td>168.078873</td>\n",
       "      <td>61.960187</td>\n",
       "    </tr>\n",
       "    <tr>\n",
       "      <th>9996</th>\n",
       "      <td>Femenino</td>\n",
       "      <td>170.350914</td>\n",
       "      <td>77.403161</td>\n",
       "    </tr>\n",
       "    <tr>\n",
       "      <th>9997</th>\n",
       "      <td>Femenino</td>\n",
       "      <td>162.225025</td>\n",
       "      <td>58.199319</td>\n",
       "    </tr>\n",
       "    <tr>\n",
       "      <th>9998</th>\n",
       "      <td>Femenino</td>\n",
       "      <td>175.347328</td>\n",
       "      <td>74.225165</td>\n",
       "    </tr>\n",
       "    <tr>\n",
       "      <th>9999</th>\n",
       "      <td>Femenino</td>\n",
       "      <td>157.338699</td>\n",
       "      <td>51.483044</td>\n",
       "    </tr>\n",
       "  </tbody>\n",
       "</table>\n",
       "<p>10000 rows × 3 columns</p>\n",
       "</div>"
      ],
      "text/plain": [
       "         Genero  Altura (cm)   Peso (kg)\n",
       "0     Masculino   187.571798  109.577784\n",
       "1     Masculino   174.706386   73.526644\n",
       "2     Masculino   188.240044   96.371608\n",
       "3     Masculino   182.197050   99.679239\n",
       "4     Masculino   177.500116   93.476460\n",
       "...         ...          ...         ...\n",
       "9995   Femenino   168.078873   61.960187\n",
       "9996   Femenino   170.350914   77.403161\n",
       "9997   Femenino   162.225025   58.199319\n",
       "9998   Femenino   175.347328   74.225165\n",
       "9999   Femenino   157.338699   51.483044\n",
       "\n",
       "[10000 rows x 3 columns]"
      ]
     },
     "execution_count": 84,
     "metadata": {},
     "output_type": "execute_result"
    }
   ],
   "source": [
    "# Alumno: copie los datos a un nuevo dataset (df2), pero ahora transforme las columnas en \n",
    "# peso --> proveniente de Weight, debe pasar de libras a kilobramos\n",
    "# altura --> proveniente de Height, debe pasar de pulgadas a metros\n",
    "# sexo --> masculino (proveniente de Male) y femenino (proveniente de Female)\n",
    "df2 = df[['Genero', 'Altura (cm)', 'Peso (kg)']].copy()\n",
    "df2"
   ]
  },
  {
   "cell_type": "code",
   "execution_count": 85,
   "metadata": {
    "colab": {
     "base_uri": "https://localhost:8080/",
     "height": 34
    },
    "executionInfo": {
     "elapsed": 3694,
     "status": "ok",
     "timestamp": 1603765604484,
     "user": {
      "displayName": "Hernán Contigiani",
      "photoUrl": "https://lh3.googleusercontent.com/a-/AOh14Ggvg04lTitIUU72BS6D299tXlZG8qalV594KkKRfg=s64",
      "userId": "01142101934719343059"
     },
     "user_tz": 180
    },
    "id": "XPQ2CtCGL3Zn",
    "outputId": "1008b319-f479-4244-c07b-b7b5bd672dc6"
   },
   "outputs": [
    {
     "name": "stdout",
     "output_type": "stream",
     "text": [
      "las filas para analizar son:  10000\n",
      "las columnas son:  3\n"
     ]
    }
   ],
   "source": [
    "# Fin de la limpieza, alumno especifique cuantas filas se poseen para analizar\n",
    "print('las filas para analizar son: ', df2.shape[0])\n",
    "print('las columnas son: ', df2.shape[1])"
   ]
  },
  {
   "cell_type": "markdown",
   "metadata": {
    "id": "8T_3enyVHYJa"
   },
   "source": [
    "# Explorar datos\n",
    "<img src=\"https://raw.githubusercontent.com/InoveAlumnos/dataset_analytics_python/master/images/Pipeline3.png\" width=\"1000\" align=\"middle\">"
   ]
  },
  {
   "cell_type": "code",
   "execution_count": 163,
   "metadata": {
    "colab": {
     "base_uri": "https://localhost:8080/",
     "height": 279
    },
    "executionInfo": {
     "elapsed": 3688,
     "status": "ok",
     "timestamp": 1603765604486,
     "user": {
      "displayName": "Hernán Contigiani",
      "photoUrl": "https://lh3.googleusercontent.com/a-/AOh14Ggvg04lTitIUU72BS6D299tXlZG8qalV594KkKRfg=s64",
      "userId": "01142101934719343059"
     },
     "user_tz": 180
    },
    "id": "tvdCv6nCxZYF",
    "outputId": "d7d60627-03d6-4a6e-fe2f-d12076bbc301"
   },
   "outputs": [
    {
     "data": {
      "image/png": "[encoded data removed]",
      "text/plain": [
       "<Figure size 432x288 with 1 Axes>"
      ]
     },
     "metadata": {
      "needs_background": "light"
     },
     "output_type": "display_data"
    }
   ],
   "source": [
    "# Alumno graficar el peso (y) en función de la altura (x) pero para ambos sexos por separados\n",
    "# Se debe realizar todo en un mismo \"ax\", cada scatter plot con diferente color para ver los dos grupos\n",
    "# Filtro\n",
    "df_femenino = df2[df2['Genero'] == 'Femenino']     # utiliza operador lógico ==\n",
    "df_masculino = df2[df2['Genero'] == 'Masculino']\n",
    "# Scatter\n",
    "sns.scatterplot(x=df_femenino['Altura (cm)'], y=df_femenino['Peso (kg)'], color='b', label='Femenino: Altura vs Peso')\n",
    "sns.scatterplot(x=df_masculino['Altura (cm)'], y=df_masculino['Peso (kg)'], color='g', label='Masculino: Altura vs Peso')\n",
    "plt.show()"
   ]
  },
  {
   "cell_type": "code",
   "execution_count": 164,
   "metadata": {
    "colab": {
     "base_uri": "https://localhost:8080/",
     "height": 386
    },
    "executionInfo": {
     "elapsed": 3683,
     "status": "ok",
     "timestamp": 1603765604489,
     "user": {
      "displayName": "Hernán Contigiani",
      "photoUrl": "https://lh3.googleusercontent.com/a-/AOh14Ggvg04lTitIUU72BS6D299tXlZG8qalV594KkKRfg=s64",
      "userId": "01142101934719343059"
     },
     "user_tz": 180
    },
    "id": "OW81C2zxfH3t",
    "outputId": "3a834c06-8db1-41b7-81b2-1d18f3da09c4"
   },
   "outputs": [
    {
     "data": {
      "image/png": "[encoded data removed]",
      "text/plain": [
       "<Figure size 360x360 with 1 Axes>"
      ]
     },
     "metadata": {
      "needs_background": "light"
     },
     "output_type": "display_data"
    },
    {
     "name": "stdout",
     "output_type": "stream",
     "text": [
      "El valor medio es:  175.32726925633074\n"
     ]
    }
   ],
   "source": [
    "# Alumno: Dibujar la distribucion (histograma) de la altura en hombres\n",
    "# Además, imprimir en pantalla el valor medio\n",
    "sns.displot(df_masculino['Altura (cm)'])\n",
    "plt.show()\n",
    "print('El valor medio es: ', df_masculino['Altura (cm)'].mean())"
   ]
  },
  {
   "cell_type": "code",
   "execution_count": 124,
   "metadata": {
    "colab": {
     "base_uri": "https://localhost:8080/",
     "height": 386
    },
    "executionInfo": {
     "elapsed": 3677,
     "status": "ok",
     "timestamp": 1603765604491,
     "user": {
      "displayName": "Hernán Contigiani",
      "photoUrl": "https://lh3.googleusercontent.com/a-/AOh14Ggvg04lTitIUU72BS6D299tXlZG8qalV594KkKRfg=s64",
      "userId": "01142101934719343059"
     },
     "user_tz": 180
    },
    "id": "Ko3gQ2CU0lfp",
    "outputId": "9448a487-2b34-40cb-bfc1-fd66fdb461ed"
   },
   "outputs": [
    {
     "data": {
      "image/png": "[encoded data removed]",
      "text/plain": [
       "<Figure size 360x360 with 1 Axes>"
      ]
     },
     "metadata": {
      "needs_background": "light"
     },
     "output_type": "display_data"
    },
    {
     "name": "stdout",
     "output_type": "stream",
     "text": [
      "El valor medio es:  161.82060859391686\n"
     ]
    }
   ],
   "source": [
    "# Alumno: Dibujar la distribucion (histograma) de la altura en mujeres\n",
    "# Además, imprimir en pantalla el valor medio\n",
    "sns.displot(df_femenino['Altura (cm)'], color=\"g\")\n",
    "plt.show()\n",
    "print('El valor medio es: ', df_femenino['Altura (cm)'].mean())"
   ]
  },
  {
   "cell_type": "code",
   "execution_count": 165,
   "metadata": {
    "colab": {
     "base_uri": "https://localhost:8080/",
     "height": 369
    },
    "executionInfo": {
     "elapsed": 4856,
     "status": "ok",
     "timestamp": 1603765605679,
     "user": {
      "displayName": "Hernán Contigiani",
      "photoUrl": "https://lh3.googleusercontent.com/a-/AOh14Ggvg04lTitIUU72BS6D299tXlZG8qalV594KkKRfg=s64",
      "userId": "01142101934719343059"
     },
     "user_tz": 180
    },
    "id": "TLi1hbpf0ZsV",
    "outputId": "9781b9f0-a746-4de6-e45c-ebf260c93b91"
   },
   "outputs": [
    {
     "data": {
      "image/png": "[encoded data removed]",
      "text/plain": [
       "<Figure size 446x360 with 1 Axes>"
      ]
     },
     "metadata": {
      "needs_background": "light"
     },
     "output_type": "display_data"
    }
   ],
   "source": [
    "# Alumno: porque no prueba la función displot de seaborn que acepta\n",
    "# \"colorear\" según la categoría deseada.\n",
    "# Ingresar parámetros= data=df2, x=\"altura\", hue=\"sexo\"\n",
    "sns.displot(data=df2, x=\"Altura (cm)\", hue=\"Genero\")\n",
    "plt.show()"
   ]
  },
  {
   "cell_type": "markdown",
   "metadata": {
    "id": "APXYUcIdiDHh"
   },
   "source": [
    "# Entrenar modelo\n",
    "<img src=\"https://raw.githubusercontent.com/InoveAlumnos/dataset_analytics_python/master/images/Pipeline4.png\" width=\"1000\" align=\"middle\">"
   ]
  },
  {
   "cell_type": "markdown",
   "metadata": {
    "id": "8y9xIL_0iE5N"
   },
   "source": [
    "Alumno:<br>\n",
    "Para esta regresión se utilizará como variable de entrada el peso (X) y como salida la altura (y). Crear el modelo de regresión lineal que sea de su agrado o invierta las variables de salida y entrada si así lo prefiere. Debe elegir trabajar con los datos de sexo masculino o femenino, o duplicar el trabajo y realizar ambos.<br>\n",
    "Pasor a seguir:\n",
    "- Obtener las variables X e y (para masculino y/o femenino)\n",
    "- Dividir el dataset en train y test 70%30%\n",
    "- Entrenar un modelo de regresión\n",
    "- Calcular la métrica r2_score del modelo (y_hat vs y_test)\n",
    "- Dibujar el resultado de la regresion sobre los datos de entrada\n"
   ]
  },
  {
   "cell_type": "code",
   "execution_count": 171,
   "metadata": {},
   "outputs": [],
   "source": [
    "# Obtener datos para x e y (femenino)\n",
    "X_f = df_femenino[['Altura (cm)']].values       # array femenino\n",
    "y_f = df_femenino[['Peso (kg)']].values         # array femenino\n",
    "\n",
    "# Obtener datos para x e y (masculino)\n",
    "X_m = df_masculino[['Altura (cm)']].values       # array masculino\n",
    "y_m = df_masculino[['Peso (kg)']].values         # array masculino"
   ]
  },
  {
   "cell_type": "code",
   "execution_count": 172,
   "metadata": {},
   "outputs": [],
   "source": [
    "# dividir datos en train y test\n",
    "\n",
    "from sklearn.model_selection import train_test_split\n",
    "\n",
    "# dividir en test y train (femenino)\n",
    "X_f_train, X_f_test, y_f_train, y_f_test = train_test_split(X_f, y_f, test_size=0.3, random_state=42)\n",
    "\n",
    "# dividir en test y train (masculino)\n",
    "X_m_train, X_m_test, y_m_train, y_m_test = train_test_split(X_m, y_m, test_size=0.3, random_state=42)"
   ]
  },
  {
   "cell_type": "code",
   "execution_count": 173,
   "metadata": {},
   "outputs": [],
   "source": [
    "# Entrenar modelo de regresión lineal\n",
    "from sklearn import linear_model\n",
    "\n",
    "lr = linear_model.LinearRegression()\n",
    "# femenino\n",
    "lr.fit(X_f_train, y_f_train)      # entrenando\n",
    "y_f_hat = lr.predict(X_f_test)\n",
    "\n",
    "# masculino\n",
    "lr.fit(X_m_train, y_m_train)      # entrenando\n",
    "y_m_hat = lr.predict(X_m_test)\n"
   ]
  },
  {
   "cell_type": "markdown",
   "metadata": {
    "id": "L65NqXhOohII"
   },
   "source": [
    "# Validar modelo\n",
    "<img src=\"https://raw.githubusercontent.com/InoveAlumnos/dataset_analytics_python/master/images/Pipeline5.png\" width=\"1000\" align=\"middle\">"
   ]
  },
  {
   "cell_type": "code",
   "execution_count": 174,
   "metadata": {},
   "outputs": [
    {
     "name": "stdout",
     "output_type": "stream",
     "text": [
      "Coeficiente de determinacion: Femenino: 0.7301914495397975 Masculino :  0.7471339794726173\n"
     ]
    }
   ],
   "source": [
    "# Calcular métrica r2_score del modelo (y_hat vs y_test)\n",
    "from sklearn.metrics import r2_score\n",
    "\n",
    "# femenino\n",
    "value_f = r2_score(y_f_test, y_f_hat)\n",
    "\n",
    "# masculino\n",
    "value_m = r2_score(y_m_test, y_m_hat)\n",
    "\n",
    "print(f\"Coeficiente de determinacion: Femenino:\", value_f, \"Masculino : \", value_m)"
   ]
  },
  {
   "cell_type": "markdown",
   "metadata": {
    "id": "C1Ndkl6uopBq"
   },
   "source": [
    "# Utilizar modelo\n",
    "<img src=\"https://raw.githubusercontent.com/InoveAlumnos/dataset_analytics_python/master/images/Pipeline6.png\" width=\"1000\" align=\"middle\">"
   ]
  },
  {
   "cell_type": "code",
   "execution_count": 175,
   "metadata": {},
   "outputs": [
    {
     "data": {
      "image/png": "[encoded data removed]",
      "text/plain": [
       "<Figure size 720x360 with 1 Axes>"
      ]
     },
     "metadata": {
      "needs_background": "light"
     },
     "output_type": "display_data"
    }
   ],
   "source": [
    "fig = plt.figure(figsize=(10, 5))\n",
    "ax = fig.add_subplot()\n",
    "ax.scatter(X_f_test, y_f_hat, color='darkOrange', label='regresion (genero femenino)')\n",
    "ax.scatter(X_m_test, y_m_hat, color='blue', label='regresion (genero masculino)')\n",
    "ax.grid(ls='dashed')\n",
    "ax.legend()\n",
    "plt.show()\n"
   ]
  },
  {
   "cell_type": "code",
   "execution_count": null,
   "metadata": {},
   "outputs": [],
   "source": []
  }
 ],
 "metadata": {
  "colab": {
   "collapsed_sections": [],
   "name": "1_weight_height.ipynb",
   "provenance": [],
   "toc_visible": true
  },
  "kernelspec": {
   "display_name": "Python 3",
   "language": "python",
   "name": "python3"
  },
  "language_info": {
   "codemirror_mode": {
    "name": "ipython",
    "version": 3
   },
   "file_extension": ".py",
   "mimetype": "text/x-python",
   "name": "python",
   "nbconvert_exporter": "python",
   "pygments_lexer": "ipython3",
   "version": "3.7.7"
  }
 },
 "nbformat": 4,
 "nbformat_minor": 4
}
